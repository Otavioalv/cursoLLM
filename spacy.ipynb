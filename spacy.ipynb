{
  "nbformat": 4,
  "nbformat_minor": 0,
  "metadata": {
    "colab": {
      "provenance": [],
      "authorship_tag": "ABX9TyOAx3L2sfnpQJyNtT84EzfJ"
    },
    "kernelspec": {
      "name": "python3",
      "display_name": "Python 3"
    },
    "language_info": {
      "name": "python"
    }
  },
  "cells": [
    {
      "cell_type": "code",
      "execution_count": null,
      "metadata": {
        "id": "SsdEgRCuE-Df"
      },
      "outputs": [],
      "source": [
        "# Instala o spacy nesta versão especifica\n",
        "!pip install -U spacy==3.7.2"
      ]
    },
    {
      "cell_type": "code",
      "source": [
        "# Baixa o modelo de texto grande (lg)\n",
        "!python -m spacy download 'pt_core_news_lg'"
      ],
      "metadata": {
        "id": "2EKv4AvWHxfk"
      },
      "execution_count": null,
      "outputs": []
    },
    {
      "cell_type": "code",
      "source": [
        "import spacy    # Importar spacy"
      ],
      "metadata": {
        "id": "xdlXqk9_IxX3"
      },
      "execution_count": 16,
      "outputs": []
    },
    {
      "cell_type": "code",
      "source": [
        "nlp = spacy.load('pt_core_news_lg')  # Carregar o modelo em português (nlp: processamento de linguagem natural)"
      ],
      "metadata": {
        "id": "xdYMNpA4J46n"
      },
      "execution_count": 17,
      "outputs": []
    },
    {
      "cell_type": "code",
      "source": [
        "print(type(nlp))    # Printa o tipo da variavel"
      ],
      "metadata": {
        "id": "snnjB1zfKUb3",
        "outputId": "a9e80321-bb4d-429e-e618-930ea6ef2b79",
        "colab": {
          "base_uri": "https://localhost:8080/"
        }
      },
      "execution_count": 21,
      "outputs": [
        {
          "output_type": "stream",
          "name": "stdout",
          "text": [
            "<class 'spacy.lang.pt.Portuguese'>\n"
          ]
        }
      ]
    },
    {
      "cell_type": "code",
      "source": [
        "print(nlp.pipe_names)       # Mostra objetos do pipeline"
      ],
      "metadata": {
        "id": "jgLYNnRBKZo3",
        "outputId": "de16dfe1-303c-40ff-a64c-d568ab180fc6",
        "colab": {
          "base_uri": "https://localhost:8080/"
        }
      },
      "execution_count": 20,
      "outputs": [
        {
          "output_type": "stream",
          "name": "stdout",
          "text": [
            "['tok2vec', 'morphologizer', 'parser', 'lemmatizer', 'attribute_ruler', 'ner']\n"
          ]
        }
      ]
    },
    {
      "cell_type": "code",
      "source": [
        "# Cria um documento\n",
        "document = nlp(\"As ações do Magazine Luiza S.A, Franca, Brasil, acumularam baixa de 70% ao ano. Assim já devolveram todos os ganhos do periodo da pandemia\")"
      ],
      "metadata": {
        "id": "9KOhY5bTKs9H"
      },
      "execution_count": 22,
      "outputs": []
    },
    {
      "cell_type": "code",
      "source": [
        "# Ler o tamanho do documento\n",
        "len(document.vocab)"
      ],
      "metadata": {
        "id": "A0FDYhB_LOqG",
        "outputId": "4ad613fe-3f5f-4739-8813-aba49be4ae05",
        "colab": {
          "base_uri": "https://localhost:8080/"
        }
      },
      "execution_count": 23,
      "outputs": [
        {
          "output_type": "execute_result",
          "data": {
            "text/plain": [
              "375"
            ]
          },
          "metadata": {},
          "execution_count": 23
        }
      ]
    },
    {
      "cell_type": "code",
      "source": [
        "# Ver o tipo do documento\n",
        "print(type(document))"
      ],
      "metadata": {
        "id": "yX2UpHqKLVc3",
        "outputId": "46c28028-b088-4835-8701-94e5790902e0",
        "colab": {
          "base_uri": "https://localhost:8080/"
        }
      },
      "execution_count": 24,
      "outputs": [
        {
          "output_type": "stream",
          "name": "stdout",
          "text": [
            "<class 'spacy.tokens.doc.Doc'>\n"
          ]
        }
      ]
    },
    {
      "cell_type": "code",
      "source": [],
      "metadata": {
        "id": "2C5vh4msLZw2"
      },
      "execution_count": null,
      "outputs": []
    }
  ]
}