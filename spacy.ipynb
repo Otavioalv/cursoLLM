{
  "nbformat": 4,
  "nbformat_minor": 0,
  "metadata": {
    "colab": {
      "provenance": [],
      "authorship_tag": "ABX9TyPPznOKuvB83pnSedCcVc5c"
    },
    "kernelspec": {
      "name": "python3",
      "display_name": "Python 3"
    },
    "language_info": {
      "name": "python"
    }
  },
  "cells": [
    {
      "cell_type": "code",
      "execution_count": null,
      "metadata": {
        "id": "SsdEgRCuE-Df"
      },
      "outputs": [],
      "source": [
        "# Instala o spacy nesta versão especifica\n",
        "!pip install -U spacy==3.7.2"
      ]
    },
    {
      "cell_type": "code",
      "source": [
        "# Baixa o modelo de texto grande (lg)\n",
        "!python -m spacy download 'pt_core_news_lg'"
      ],
      "metadata": {
        "id": "2EKv4AvWHxfk"
      },
      "execution_count": null,
      "outputs": []
    },
    {
      "cell_type": "code",
      "source": [
        "import spacy    # Importar spacy"
      ],
      "metadata": {
        "id": "xdlXqk9_IxX3"
      },
      "execution_count": null,
      "outputs": []
    },
    {
      "cell_type": "code",
      "source": [
        "nlp = spacy.load('pt_core_news_lg')  # Carregar o modelo em português (nlp: processamento de linguagem natural)"
      ],
      "metadata": {
        "id": "xdYMNpA4J46n"
      },
      "execution_count": null,
      "outputs": []
    },
    {
      "cell_type": "code",
      "source": [
        "print(type(nlp))    # Printa o tipo da variavel"
      ],
      "metadata": {
        "id": "snnjB1zfKUb3"
      },
      "execution_count": null,
      "outputs": []
    },
    {
      "cell_type": "code",
      "source": [
        "print(nlp.pipe_names)       # Mostra objetos do pipeline"
      ],
      "metadata": {
        "id": "jgLYNnRBKZo3"
      },
      "execution_count": null,
      "outputs": []
    },
    {
      "cell_type": "code",
      "source": [
        "# Cria um documento\n",
        "document = nlp(\"As ações do Magazine Luiza S.A, Franca, Brasil, acumularam baixa de 70% ao ano. Assim já devolveram todos os ganhos do periodo da pandemia\")\n",
        "\n",
        "# Documento provisorio\n",
        "document2 = nlp(\"Alegações extraordinarias querem evidências extraordinarias. Carl Sagan: 'https://carlsagan.com'\")"
      ],
      "metadata": {
        "id": "9KOhY5bTKs9H"
      },
      "execution_count": null,
      "outputs": []
    },
    {
      "cell_type": "code",
      "source": [
        "# Ler o tamanho do documento\n",
        "len(document.vocab)"
      ],
      "metadata": {
        "id": "A0FDYhB_LOqG"
      },
      "execution_count": null,
      "outputs": []
    },
    {
      "cell_type": "code",
      "source": [
        "# Ver o tipo do documento\n",
        "print(type(document))"
      ],
      "metadata": {
        "id": "yX2UpHqKLVc3"
      },
      "execution_count": null,
      "outputs": []
    },
    {
      "cell_type": "code",
      "source": [
        "# Mostra a tokenização do texto\n",
        "for token in document:\n",
        "    print(token.text)"
      ],
      "metadata": {
        "id": "2C5vh4msLZw2"
      },
      "execution_count": null,
      "outputs": []
    },
    {
      "cell_type": "code",
      "source": [
        "# Mostra tokenização document2\n",
        "for token in document2:\n",
        "  print(token.text)"
      ],
      "metadata": {
        "id": "yP6jZ5zvMZoX"
      },
      "execution_count": null,
      "outputs": []
    },
    {
      "cell_type": "code",
      "source": [
        "print(document[3])"
      ],
      "metadata": {
        "id": "IPIs-uaGNFRF"
      },
      "execution_count": null,
      "outputs": []
    },
    {
      "cell_type": "code",
      "source": [
        "print(document[3:5])"
      ],
      "metadata": {
        "id": "clV4D-hTNb8X"
      },
      "execution_count": null,
      "outputs": []
    },
    {
      "cell_type": "code",
      "source": [
        "print(len(document))"
      ],
      "metadata": {
        "id": "Vybwo_qKNpRW"
      },
      "execution_count": null,
      "outputs": []
    },
    {
      "cell_type": "code",
      "source": [
        "# Imprime os token\n",
        "print(\"Tokens: \", [token.text for token in document])\n",
        "print(\"Stop word: \", [token.is_stop for token in document])\n",
        "print(\"Alfanumerico: \", [token.is_alpha for token in document])\n",
        "print(\"Maiusculo: \", [token.is_upper for token in document])\n",
        "print(\"Pontuação: \", [token.is_punct for token in document])\n",
        "print(\"Numero: \", [token.like_num for token in document])\n",
        "print(\"Sentença Inicial: \", [token.is_sent_start for token in document])\n",
        "\n"
      ],
      "metadata": {
        "id": "7X0Dy5IhNyMl"
      },
      "execution_count": null,
      "outputs": []
    },
    {
      "cell_type": "code",
      "source": [
        "print(\"Tokens: \", [token.text for token in document])\n",
        "print(\"Formato: \", [token.shape_ for token in document])"
      ],
      "metadata": {
        "id": "Dc70y-0UOxUF"
      },
      "execution_count": null,
      "outputs": []
    },
    {
      "cell_type": "code",
      "source": [
        "# Procurar determinados elementos do document\n",
        "\n",
        "# Procura por numero\n",
        "for token in document:\n",
        "  if token.like_num:\n",
        "    print(\"Numero:\", token.text)\n",
        "  if token.is_punct:\n",
        "    print(\"Pontuação:\", token.text)"
      ],
      "metadata": {
        "id": "znH_Fd64PagW"
      },
      "execution_count": null,
      "outputs": []
    },
    {
      "cell_type": "code",
      "source": [
        "for token in document:\n",
        "  print(token.text, \" - \", token.pos_, \" - \", token.dep_, \" - \", token.lemma_, \" - \", token.shape_)"
      ],
      "metadata": {
        "id": "gidcrEtVP1jm"
      },
      "execution_count": null,
      "outputs": []
    },
    {
      "cell_type": "code",
      "source": [
        " # Morfologia das palavras (Classe gramatical que a palavra pertence)\n",
        "for token in document:\n",
        "  print(token.text, \" - \", token.morph)"
      ],
      "metadata": {
        "id": "9n5jxQrZQ9s1"
      },
      "execution_count": null,
      "outputs": []
    },
    {
      "cell_type": "code",
      "source": [
        "for token in document:\n",
        "  print(token.text, \" - \", token.tag_)"
      ],
      "metadata": {
        "id": "9kJrAHE6SglD"
      },
      "execution_count": null,
      "outputs": []
    },
    {
      "cell_type": "code",
      "source": [
        "for ent in document.ents:\n",
        "  print(ent.text, \" - \", ent.label_)\n"
      ],
      "metadata": {
        "id": "KmXZJCfyS7MJ"
      },
      "execution_count": null,
      "outputs": []
    },
    {
      "cell_type": "code",
      "source": [
        "# stop words\n",
        "for token in document:\n",
        "  if token.is_stop:\n",
        "    print(\"Stop word: \", token.text)"
      ],
      "metadata": {
        "id": "5dqaInGxTx2z"
      },
      "execution_count": null,
      "outputs": []
    },
    {
      "cell_type": "code",
      "source": [
        "# Mostra stop words padrão do spacy\n",
        "for words in nlp.Defaults.stop_words:\n",
        "  print(words)"
      ],
      "metadata": {
        "id": "fbilqX4xVD3C"
      },
      "execution_count": null,
      "outputs": []
    },
    {
      "cell_type": "code",
      "source": [
        "# Adicionar stop word personalizada\n",
        "nlp.Defaults.stop_words.add(\"magazine\") # Adiciona ao BD\n",
        "nlp.vocab[\"magazine\"].is_stop = True  # Adiciona a palavra como TRUE"
      ],
      "metadata": {
        "id": "gIw0_jgVVfwU"
      },
      "execution_count": null,
      "outputs": []
    },
    {
      "cell_type": "code",
      "source": [
        "nlp.vocab[\"magazine\"].is_stop"
      ],
      "metadata": {
        "id": "AV6jwKwEV6_C"
      },
      "execution_count": null,
      "outputs": []
    },
    {
      "cell_type": "code",
      "source": [
        "# lista vazia\n",
        "token_list = []\n",
        "\n",
        "# Adiciona os tokens na lista\n",
        "for token in document:\n",
        "  token_list.append(token.text)\n",
        "\n",
        "# lista de stop words\n",
        "stop_list = []\n",
        "for words in nlp.Defaults.stop_words:\n",
        "  stop_list.append(words)\n",
        "\n",
        "# palavras que nao estao na lista de stop words\n",
        "nonstop = [word for word in token_list if not word in stop_list]\n",
        "\n",
        "print(document.text)\n",
        "print(nonstop)\n"
      ],
      "metadata": {
        "id": "-OVnoRh_WTrB"
      },
      "execution_count": null,
      "outputs": []
    },
    {
      "cell_type": "code",
      "source": [
        "# hash\n",
        "print(\"Hash: \", nlp.vocab.strings[\"magazine\"])\n",
        "print(\"Hash: \", nlp.vocab.strings[\"dado\"])\n",
        "print(\"Hash: \", nlp.vocab.strings[\"dado\"])\n",
        "\n",
        "# string\n",
        "print(\"String: \", nlp.vocab.strings[nlp.vocab.strings[\"dado\"]])\n",
        "print(\"String: \", nlp.vocab.strings[7957890111422468342])"
      ],
      "metadata": {
        "id": "a1gHyOrGXgDD"
      },
      "execution_count": null,
      "outputs": []
    },
    {
      "cell_type": "code",
      "source": [
        "# lexemas\n",
        "lex = nlp.vocab[\"dado\"]\n",
        "print(lex.text, \" - \", lex.orth, \" - \", lex.is_alpha, \" - \", lex.is_lower)"
      ],
      "metadata": {
        "id": "Co5h3C4fY8sN"
      },
      "execution_count": null,
      "outputs": []
    },
    {
      "cell_type": "code",
      "source": [
        "# Relação da palavras com outras palavras (mostra o peso delas)\n",
        "print(nlp(\"dados\").vector.shape)\n",
        "print(nlp(\"dados\").vector)\n",
        "\n",
        "print(nlp(\"dados são uma nova forma de ver o mundo\").vector)"
      ],
      "metadata": {
        "id": "u2siHifoZRBh"
      },
      "execution_count": null,
      "outputs": []
    },
    {
      "cell_type": "code",
      "source": [
        "# Busca de similaridade\n",
        "documento3 = nlp(\"Ele viaja regularmente de carro\")\n",
        "documento4 = nlp(\"Ela regularmente viaja de avião\")\n",
        "\n",
        "# Somente fazer comparação (sem tratamento)\n",
        "print(documento3.similarity(documento4))\n",
        "print(documento4.similarity(documento3))\n",
        "print(documento4.similarity(documento4))\n"
      ],
      "metadata": {
        "id": "7XCrtGgAZyyB"
      },
      "execution_count": null,
      "outputs": []
    },
    {
      "cell_type": "code",
      "source": [
        "documento5 = nlp(\"Devemos dizer comprimento ou cumprimento?\")\n",
        "tokenA = documento5[2]\n",
        "tokenB = documento5[4]\n",
        "\n",
        "print(tokenA, tokenB)\n",
        "print(tokenA.similarity(tokenB))"
      ],
      "metadata": {
        "id": "OhAA-tMmcEgB"
      },
      "execution_count": null,
      "outputs": []
    },
    {
      "cell_type": "code",
      "source": [
        "document6 = nlp(\"Ele pede descrição. Ele pede discrição\")\n",
        "\n",
        "partA = document6[0:3]\n",
        "partB = document6[4:len(document6.text)]\n",
        "\n",
        "print(partA, partB)\n",
        "\n",
        "print(partA.similarity(partB))"
      ],
      "metadata": {
        "id": "1bwgBLexdQpQ"
      },
      "execution_count": null,
      "outputs": []
    },
    {
      "cell_type": "code",
      "source": [
        "# match (busca por padroes)\n",
        "\n",
        "from spacy.matcher import Matcher\n",
        "\n",
        "documento5 = nlp(\"Você pode ligar para (51) - 992324578 ou (11) - 93829012\")\n",
        "\n",
        "# Cria o matcher apartir do vocabulario\n",
        "matcher = Matcher(nlp.vocab)\n",
        "\n",
        "# Cria um padão\n",
        "padrao = [\n",
        "    {\"ORTH\": \"(\"},\n",
        "    {\"SHAPE\": \"dd\"},\n",
        "    {\"ORTH\": \")\"},\n",
        "    {\n",
        "        \"ORTH\": \"-\",\n",
        "        \"OP\": \"?\"\n",
        "    },\n",
        "    {\"IS_DIGIT\": True}\n",
        "]\n",
        "\n",
        "# Adiciona o meu novo padrao\n",
        "matcher.add(\"telefone\", [padrao])\n",
        "\n",
        "# Verifica os padroes apartir do documento criado\n",
        "matches = matcher(documento5)\n",
        "\n",
        "\n",
        "print(matches)\n",
        "for id, inicio, fim in matches:\n",
        "  print(id, \" - \", documento5[inicio:fim])\n"
      ],
      "metadata": {
        "id": "Et_XYl6vd0gP"
      },
      "execution_count": null,
      "outputs": []
    },
    {
      "cell_type": "code",
      "source": [
        "document6 = nlp(\"Estamos infectados com micro organismos. MICROORGANISMOS são perigosos. Não exergamos micro-organismos\")\n",
        "\n",
        "matcher = Matcher(nlp.vocab)\n",
        "\n",
        "\n",
        "# Criar 3 padroes para o matcher\n",
        "padrao1 = [\n",
        "    {\"LOWER\": \"micro-organismos\"}\n",
        "]\n",
        "\n",
        "padrao2 = [\n",
        "  {\"LOWER\": \"microorganismos\"}\n",
        "]\n",
        "\n",
        "padrao3 = [\n",
        "    {\"LOWER\": \"micro\"},\n",
        "    {\"LOWER\": \"organismos\"}\n",
        "]\n",
        "\n",
        "# Adicioina os padroes ao matcher\n",
        "matcher.add(\"padrao\", [padrao1, padrao2, padrao3])\n",
        "\n",
        "matches = matcher(document6)\n",
        "\n",
        "print(matches)\n",
        "for id, inicio, fim in matches:\n",
        "  print(id, \" - \", document6[inicio:fim])\n",
        "\n",
        "\n"
      ],
      "metadata": {
        "id": "AdOlK3MhhC0f",
        "outputId": "a7e2cc5a-6489-49d6-e87b-5d57e465cf8b",
        "colab": {
          "base_uri": "https://localhost:8080/"
        }
      },
      "execution_count": 35,
      "outputs": [
        {
          "output_type": "stream",
          "name": "stdout",
          "text": [
            "[(9086520831825672219, 3, 5), (9086520831825672219, 6, 7), (9086520831825672219, 12, 13)]\n",
            "9086520831825672219  -  micro organismos\n",
            "9086520831825672219  -  MICROORGANISMOS\n",
            "9086520831825672219  -  micro-organismos\n"
          ]
        }
      ]
    },
    {
      "cell_type": "code",
      "source": [
        "# Displacy\n",
        "from spacy import displacy\n",
        "\n",
        "# Cria um documendo displacy\n",
        "displacy.render(document, style=\"ent\", jupyter=True)\n"
      ],
      "metadata": {
        "id": "BFDUeWbpj7yM",
        "outputId": "24a23d5d-ca62-4032-c269-4483bfe91f8a",
        "colab": {
          "base_uri": "https://localhost:8080/",
          "height": 113
        }
      },
      "execution_count": 47,
      "outputs": [
        {
          "output_type": "display_data",
          "data": {
            "text/plain": [
              "<IPython.core.display.HTML object>"
            ],
            "text/html": [
              "<span class=\"tex2jax_ignore\"><h2 style=\"margin: 0\">Meu titulo</h2>\n",
              "\n",
              "<div class=\"entities\" style=\"line-height: 2.5; direction: ltr\">As ações do \n",
              "<mark class=\"entity\" style=\"background: #7aecec; padding: 0.45em 0.6em; margin: 0 0.25em; line-height: 1; border-radius: 0.35em;\">\n",
              "    Magazine Luiza S.A\n",
              "    <span style=\"font-size: 0.8em; font-weight: bold; line-height: 1; border-radius: 0.35em; vertical-align: middle; margin-left: 0.5rem\">ORG</span>\n",
              "</mark>\n",
              ", \n",
              "<mark class=\"entity\" style=\"background: #7aecec; padding: 0.45em 0.6em; margin: 0 0.25em; line-height: 1; border-radius: 0.35em;\">\n",
              "    Franca\n",
              "    <span style=\"font-size: 0.8em; font-weight: bold; line-height: 1; border-radius: 0.35em; vertical-align: middle; margin-left: 0.5rem\">ORG</span>\n",
              "</mark>\n",
              ", \n",
              "<mark class=\"entity\" style=\"background: #ff9561; padding: 0.45em 0.6em; margin: 0 0.25em; line-height: 1; border-radius: 0.35em;\">\n",
              "    Brasil\n",
              "    <span style=\"font-size: 0.8em; font-weight: bold; line-height: 1; border-radius: 0.35em; vertical-align: middle; margin-left: 0.5rem\">LOC</span>\n",
              "</mark>\n",
              ", acumularam baixa de 70% ao ano. Assim já devolveram todos os ganhos do periodo da pandemia</div></span>"
            ]
          },
          "metadata": {}
        }
      ]
    },
    {
      "cell_type": "code",
      "source": [
        "displacy.render(document, style=\"dep\", jupyter=True)"
      ],
      "metadata": {
        "id": "5OPrlTN2Jrif"
      },
      "execution_count": null,
      "outputs": []
    },
    {
      "cell_type": "code",
      "source": [
        "options = {\n",
        "    \"compact\": True,\n",
        "    \"distance\": 80,\n",
        "    \"color\": \"#000000\",\n",
        "    \"bg\": \"#FFFFFF\",\n",
        "    \"front\": \"arial\"\n",
        "}\n",
        "\n",
        "document.user_data[\"title\"] = \"Meu titulo\"\n",
        "displacy.render(document, style=\"dep\", jupyter=True, options=options)"
      ],
      "metadata": {
        "id": "TbmefxgEKD0y",
        "outputId": "7d4a6e74-c81c-46d1-9a2d-3650fdd49436",
        "colab": {
          "base_uri": "https://localhost:8080/",
          "height": 338
        }
      },
      "execution_count": 46,
      "outputs": [
        {
          "output_type": "display_data",
          "data": {
            "text/plain": [
              "<IPython.core.display.HTML object>"
            ],
            "text/html": [
              "<span class=\"tex2jax_ignore\"><svg xmlns=\"http://www.w3.org/2000/svg\" xmlns:xlink=\"http://www.w3.org/1999/xlink\" xml:lang=\"pt\" id=\"3d4dd7567fd6498fba3e8c0055bd802f-0\" class=\"displacy\" width=\"1970\" height=\"297.0\" direction=\"ltr\" style=\"max-width: none; height: 297.0px; color: #000000; background: #FFFFFF; font-family: Arial; direction: ltr\">\n",
              "<text class=\"displacy-token\" fill=\"currentColor\" text-anchor=\"middle\" y=\"207.0\">\n",
              "    <tspan class=\"displacy-word\" fill=\"currentColor\" x=\"50\">As</tspan>\n",
              "    <tspan class=\"displacy-tag\" dy=\"2em\" fill=\"currentColor\" x=\"50\">DET</tspan>\n",
              "</text>\n",
              "\n",
              "<text class=\"displacy-token\" fill=\"currentColor\" text-anchor=\"middle\" y=\"207.0\">\n",
              "    <tspan class=\"displacy-word\" fill=\"currentColor\" x=\"130\">ações</tspan>\n",
              "    <tspan class=\"displacy-tag\" dy=\"2em\" fill=\"currentColor\" x=\"130\">NOUN</tspan>\n",
              "</text>\n",
              "\n",
              "<text class=\"displacy-token\" fill=\"currentColor\" text-anchor=\"middle\" y=\"207.0\">\n",
              "    <tspan class=\"displacy-word\" fill=\"currentColor\" x=\"210\">do</tspan>\n",
              "    <tspan class=\"displacy-tag\" dy=\"2em\" fill=\"currentColor\" x=\"210\">ADP</tspan>\n",
              "</text>\n",
              "\n",
              "<text class=\"displacy-token\" fill=\"currentColor\" text-anchor=\"middle\" y=\"207.0\">\n",
              "    <tspan class=\"displacy-word\" fill=\"currentColor\" x=\"290\">Magazine</tspan>\n",
              "    <tspan class=\"displacy-tag\" dy=\"2em\" fill=\"currentColor\" x=\"290\">PROPN</tspan>\n",
              "</text>\n",
              "\n",
              "<text class=\"displacy-token\" fill=\"currentColor\" text-anchor=\"middle\" y=\"207.0\">\n",
              "    <tspan class=\"displacy-word\" fill=\"currentColor\" x=\"370\">Luiza</tspan>\n",
              "    <tspan class=\"displacy-tag\" dy=\"2em\" fill=\"currentColor\" x=\"370\">PROPN</tspan>\n",
              "</text>\n",
              "\n",
              "<text class=\"displacy-token\" fill=\"currentColor\" text-anchor=\"middle\" y=\"207.0\">\n",
              "    <tspan class=\"displacy-word\" fill=\"currentColor\" x=\"450\">S.A,</tspan>\n",
              "    <tspan class=\"displacy-tag\" dy=\"2em\" fill=\"currentColor\" x=\"450\">PROPN</tspan>\n",
              "</text>\n",
              "\n",
              "<text class=\"displacy-token\" fill=\"currentColor\" text-anchor=\"middle\" y=\"207.0\">\n",
              "    <tspan class=\"displacy-word\" fill=\"currentColor\" x=\"530\">Franca,</tspan>\n",
              "    <tspan class=\"displacy-tag\" dy=\"2em\" fill=\"currentColor\" x=\"530\">PROPN</tspan>\n",
              "</text>\n",
              "\n",
              "<text class=\"displacy-token\" fill=\"currentColor\" text-anchor=\"middle\" y=\"207.0\">\n",
              "    <tspan class=\"displacy-word\" fill=\"currentColor\" x=\"610\">Brasil,</tspan>\n",
              "    <tspan class=\"displacy-tag\" dy=\"2em\" fill=\"currentColor\" x=\"610\">PROPN</tspan>\n",
              "</text>\n",
              "\n",
              "<text class=\"displacy-token\" fill=\"currentColor\" text-anchor=\"middle\" y=\"207.0\">\n",
              "    <tspan class=\"displacy-word\" fill=\"currentColor\" x=\"690\">acumularam</tspan>\n",
              "    <tspan class=\"displacy-tag\" dy=\"2em\" fill=\"currentColor\" x=\"690\">VERB</tspan>\n",
              "</text>\n",
              "\n",
              "<text class=\"displacy-token\" fill=\"currentColor\" text-anchor=\"middle\" y=\"207.0\">\n",
              "    <tspan class=\"displacy-word\" fill=\"currentColor\" x=\"770\">baixa</tspan>\n",
              "    <tspan class=\"displacy-tag\" dy=\"2em\" fill=\"currentColor\" x=\"770\">NOUN</tspan>\n",
              "</text>\n",
              "\n",
              "<text class=\"displacy-token\" fill=\"currentColor\" text-anchor=\"middle\" y=\"207.0\">\n",
              "    <tspan class=\"displacy-word\" fill=\"currentColor\" x=\"850\">de</tspan>\n",
              "    <tspan class=\"displacy-tag\" dy=\"2em\" fill=\"currentColor\" x=\"850\">ADP</tspan>\n",
              "</text>\n",
              "\n",
              "<text class=\"displacy-token\" fill=\"currentColor\" text-anchor=\"middle\" y=\"207.0\">\n",
              "    <tspan class=\"displacy-word\" fill=\"currentColor\" x=\"930\">70%</tspan>\n",
              "    <tspan class=\"displacy-tag\" dy=\"2em\" fill=\"currentColor\" x=\"930\">SYM</tspan>\n",
              "</text>\n",
              "\n",
              "<text class=\"displacy-token\" fill=\"currentColor\" text-anchor=\"middle\" y=\"207.0\">\n",
              "    <tspan class=\"displacy-word\" fill=\"currentColor\" x=\"1010\">ao</tspan>\n",
              "    <tspan class=\"displacy-tag\" dy=\"2em\" fill=\"currentColor\" x=\"1010\">ADP</tspan>\n",
              "</text>\n",
              "\n",
              "<text class=\"displacy-token\" fill=\"currentColor\" text-anchor=\"middle\" y=\"207.0\">\n",
              "    <tspan class=\"displacy-word\" fill=\"currentColor\" x=\"1090\">ano.</tspan>\n",
              "    <tspan class=\"displacy-tag\" dy=\"2em\" fill=\"currentColor\" x=\"1090\">NOUN</tspan>\n",
              "</text>\n",
              "\n",
              "<text class=\"displacy-token\" fill=\"currentColor\" text-anchor=\"middle\" y=\"207.0\">\n",
              "    <tspan class=\"displacy-word\" fill=\"currentColor\" x=\"1170\">Assim</tspan>\n",
              "    <tspan class=\"displacy-tag\" dy=\"2em\" fill=\"currentColor\" x=\"1170\">ADV</tspan>\n",
              "</text>\n",
              "\n",
              "<text class=\"displacy-token\" fill=\"currentColor\" text-anchor=\"middle\" y=\"207.0\">\n",
              "    <tspan class=\"displacy-word\" fill=\"currentColor\" x=\"1250\">já</tspan>\n",
              "    <tspan class=\"displacy-tag\" dy=\"2em\" fill=\"currentColor\" x=\"1250\">ADV</tspan>\n",
              "</text>\n",
              "\n",
              "<text class=\"displacy-token\" fill=\"currentColor\" text-anchor=\"middle\" y=\"207.0\">\n",
              "    <tspan class=\"displacy-word\" fill=\"currentColor\" x=\"1330\">devolveram</tspan>\n",
              "    <tspan class=\"displacy-tag\" dy=\"2em\" fill=\"currentColor\" x=\"1330\">VERB</tspan>\n",
              "</text>\n",
              "\n",
              "<text class=\"displacy-token\" fill=\"currentColor\" text-anchor=\"middle\" y=\"207.0\">\n",
              "    <tspan class=\"displacy-word\" fill=\"currentColor\" x=\"1410\">todos</tspan>\n",
              "    <tspan class=\"displacy-tag\" dy=\"2em\" fill=\"currentColor\" x=\"1410\">DET</tspan>\n",
              "</text>\n",
              "\n",
              "<text class=\"displacy-token\" fill=\"currentColor\" text-anchor=\"middle\" y=\"207.0\">\n",
              "    <tspan class=\"displacy-word\" fill=\"currentColor\" x=\"1490\">os</tspan>\n",
              "    <tspan class=\"displacy-tag\" dy=\"2em\" fill=\"currentColor\" x=\"1490\">DET</tspan>\n",
              "</text>\n",
              "\n",
              "<text class=\"displacy-token\" fill=\"currentColor\" text-anchor=\"middle\" y=\"207.0\">\n",
              "    <tspan class=\"displacy-word\" fill=\"currentColor\" x=\"1570\">ganhos</tspan>\n",
              "    <tspan class=\"displacy-tag\" dy=\"2em\" fill=\"currentColor\" x=\"1570\">NOUN</tspan>\n",
              "</text>\n",
              "\n",
              "<text class=\"displacy-token\" fill=\"currentColor\" text-anchor=\"middle\" y=\"207.0\">\n",
              "    <tspan class=\"displacy-word\" fill=\"currentColor\" x=\"1650\">do</tspan>\n",
              "    <tspan class=\"displacy-tag\" dy=\"2em\" fill=\"currentColor\" x=\"1650\">ADP</tspan>\n",
              "</text>\n",
              "\n",
              "<text class=\"displacy-token\" fill=\"currentColor\" text-anchor=\"middle\" y=\"207.0\">\n",
              "    <tspan class=\"displacy-word\" fill=\"currentColor\" x=\"1730\">periodo</tspan>\n",
              "    <tspan class=\"displacy-tag\" dy=\"2em\" fill=\"currentColor\" x=\"1730\">NOUN</tspan>\n",
              "</text>\n",
              "\n",
              "<text class=\"displacy-token\" fill=\"currentColor\" text-anchor=\"middle\" y=\"207.0\">\n",
              "    <tspan class=\"displacy-word\" fill=\"currentColor\" x=\"1810\">da</tspan>\n",
              "    <tspan class=\"displacy-tag\" dy=\"2em\" fill=\"currentColor\" x=\"1810\">ADP</tspan>\n",
              "</text>\n",
              "\n",
              "<text class=\"displacy-token\" fill=\"currentColor\" text-anchor=\"middle\" y=\"207.0\">\n",
              "    <tspan class=\"displacy-word\" fill=\"currentColor\" x=\"1890\">pandemia</tspan>\n",
              "    <tspan class=\"displacy-tag\" dy=\"2em\" fill=\"currentColor\" x=\"1890\">NOUN</tspan>\n",
              "</text>\n",
              "\n",
              "<g class=\"displacy-arrow\">\n",
              "    <path class=\"displacy-arc\" id=\"arrow-3d4dd7567fd6498fba3e8c0055bd802f-0-0\" stroke-width=\"2px\" d=\"M62,162.0 62,148.66666666666666 121.0,148.66666666666666 121.0,162.0\" fill=\"none\" stroke=\"currentColor\"/>\n",
              "    <text dy=\"1.25em\" style=\"font-size: 0.8em; letter-spacing: 1px\">\n",
              "        <textPath xlink:href=\"#arrow-3d4dd7567fd6498fba3e8c0055bd802f-0-0\" class=\"displacy-label\" startOffset=\"50%\" side=\"left\" fill=\"currentColor\" text-anchor=\"middle\">det</textPath>\n",
              "    </text>\n",
              "    <path class=\"displacy-arrowhead\" d=\"M62,164.0 L58,156.0 66,156.0\" fill=\"currentColor\"/>\n",
              "</g>\n",
              "\n",
              "<g class=\"displacy-arrow\">\n",
              "    <path class=\"displacy-arc\" id=\"arrow-3d4dd7567fd6498fba3e8c0055bd802f-0-1\" stroke-width=\"2px\" d=\"M142,162.0 142,108.66666666666666 690.0,108.66666666666666 690.0,162.0\" fill=\"none\" stroke=\"currentColor\"/>\n",
              "    <text dy=\"1.25em\" style=\"font-size: 0.8em; letter-spacing: 1px\">\n",
              "        <textPath xlink:href=\"#arrow-3d4dd7567fd6498fba3e8c0055bd802f-0-1\" class=\"displacy-label\" startOffset=\"50%\" side=\"left\" fill=\"currentColor\" text-anchor=\"middle\">nsubj</textPath>\n",
              "    </text>\n",
              "    <path class=\"displacy-arrowhead\" d=\"M142,164.0 L138,156.0 146,156.0\" fill=\"currentColor\"/>\n",
              "</g>\n",
              "\n",
              "<g class=\"displacy-arrow\">\n",
              "    <path class=\"displacy-arc\" id=\"arrow-3d4dd7567fd6498fba3e8c0055bd802f-0-2\" stroke-width=\"2px\" d=\"M222,162.0 222,148.66666666666666 281.0,148.66666666666666 281.0,162.0\" fill=\"none\" stroke=\"currentColor\"/>\n",
              "    <text dy=\"1.25em\" style=\"font-size: 0.8em; letter-spacing: 1px\">\n",
              "        <textPath xlink:href=\"#arrow-3d4dd7567fd6498fba3e8c0055bd802f-0-2\" class=\"displacy-label\" startOffset=\"50%\" side=\"left\" fill=\"currentColor\" text-anchor=\"middle\">case</textPath>\n",
              "    </text>\n",
              "    <path class=\"displacy-arrowhead\" d=\"M222,164.0 L218,156.0 226,156.0\" fill=\"currentColor\"/>\n",
              "</g>\n",
              "\n",
              "<g class=\"displacy-arrow\">\n",
              "    <path class=\"displacy-arc\" id=\"arrow-3d4dd7567fd6498fba3e8c0055bd802f-0-3\" stroke-width=\"2px\" d=\"M142,162.0 142,135.33333333333334 284.0,135.33333333333334 284.0,162.0\" fill=\"none\" stroke=\"currentColor\"/>\n",
              "    <text dy=\"1.25em\" style=\"font-size: 0.8em; letter-spacing: 1px\">\n",
              "        <textPath xlink:href=\"#arrow-3d4dd7567fd6498fba3e8c0055bd802f-0-3\" class=\"displacy-label\" startOffset=\"50%\" side=\"left\" fill=\"currentColor\" text-anchor=\"middle\">nmod</textPath>\n",
              "    </text>\n",
              "    <path class=\"displacy-arrowhead\" d=\"M284.0,164.0 L288.0,156.0 280.0,156.0\" fill=\"currentColor\"/>\n",
              "</g>\n",
              "\n",
              "<g class=\"displacy-arrow\">\n",
              "    <path class=\"displacy-arc\" id=\"arrow-3d4dd7567fd6498fba3e8c0055bd802f-0-4\" stroke-width=\"2px\" d=\"M302,162.0 302,148.66666666666666 361.0,148.66666666666666 361.0,162.0\" fill=\"none\" stroke=\"currentColor\"/>\n",
              "    <text dy=\"1.25em\" style=\"font-size: 0.8em; letter-spacing: 1px\">\n",
              "        <textPath xlink:href=\"#arrow-3d4dd7567fd6498fba3e8c0055bd802f-0-4\" class=\"displacy-label\" startOffset=\"50%\" side=\"left\" fill=\"currentColor\" text-anchor=\"middle\">flat:name</textPath>\n",
              "    </text>\n",
              "    <path class=\"displacy-arrowhead\" d=\"M361.0,164.0 L365.0,156.0 357.0,156.0\" fill=\"currentColor\"/>\n",
              "</g>\n",
              "\n",
              "<g class=\"displacy-arrow\">\n",
              "    <path class=\"displacy-arc\" id=\"arrow-3d4dd7567fd6498fba3e8c0055bd802f-0-5\" stroke-width=\"2px\" d=\"M382,162.0 382,148.66666666666666 441.0,148.66666666666666 441.0,162.0\" fill=\"none\" stroke=\"currentColor\"/>\n",
              "    <text dy=\"1.25em\" style=\"font-size: 0.8em; letter-spacing: 1px\">\n",
              "        <textPath xlink:href=\"#arrow-3d4dd7567fd6498fba3e8c0055bd802f-0-5\" class=\"displacy-label\" startOffset=\"50%\" side=\"left\" fill=\"currentColor\" text-anchor=\"middle\">flat:name</textPath>\n",
              "    </text>\n",
              "    <path class=\"displacy-arrowhead\" d=\"M441.0,164.0 L445.0,156.0 437.0,156.0\" fill=\"currentColor\"/>\n",
              "</g>\n",
              "\n",
              "<g class=\"displacy-arrow\">\n",
              "    <path class=\"displacy-arc\" id=\"arrow-3d4dd7567fd6498fba3e8c0055bd802f-0-6\" stroke-width=\"2px\" d=\"M302,162.0 302,135.33333333333334 524.0,135.33333333333334 524.0,162.0\" fill=\"none\" stroke=\"currentColor\"/>\n",
              "    <text dy=\"1.25em\" style=\"font-size: 0.8em; letter-spacing: 1px\">\n",
              "        <textPath xlink:href=\"#arrow-3d4dd7567fd6498fba3e8c0055bd802f-0-6\" class=\"displacy-label\" startOffset=\"50%\" side=\"left\" fill=\"currentColor\" text-anchor=\"middle\">conj</textPath>\n",
              "    </text>\n",
              "    <path class=\"displacy-arrowhead\" d=\"M524.0,164.0 L528.0,156.0 520.0,156.0\" fill=\"currentColor\"/>\n",
              "</g>\n",
              "\n",
              "<g class=\"displacy-arrow\">\n",
              "    <path class=\"displacy-arc\" id=\"arrow-3d4dd7567fd6498fba3e8c0055bd802f-0-7\" stroke-width=\"2px\" d=\"M302,162.0 302,122.0 607.0,122.0 607.0,162.0\" fill=\"none\" stroke=\"currentColor\"/>\n",
              "    <text dy=\"1.25em\" style=\"font-size: 0.8em; letter-spacing: 1px\">\n",
              "        <textPath xlink:href=\"#arrow-3d4dd7567fd6498fba3e8c0055bd802f-0-7\" class=\"displacy-label\" startOffset=\"50%\" side=\"left\" fill=\"currentColor\" text-anchor=\"middle\">conj</textPath>\n",
              "    </text>\n",
              "    <path class=\"displacy-arrowhead\" d=\"M607.0,164.0 L611.0,156.0 603.0,156.0\" fill=\"currentColor\"/>\n",
              "</g>\n",
              "\n",
              "<g class=\"displacy-arrow\">\n",
              "    <path class=\"displacy-arc\" id=\"arrow-3d4dd7567fd6498fba3e8c0055bd802f-0-8\" stroke-width=\"2px\" d=\"M702,162.0 702,148.66666666666666 761.0,148.66666666666666 761.0,162.0\" fill=\"none\" stroke=\"currentColor\"/>\n",
              "    <text dy=\"1.25em\" style=\"font-size: 0.8em; letter-spacing: 1px\">\n",
              "        <textPath xlink:href=\"#arrow-3d4dd7567fd6498fba3e8c0055bd802f-0-8\" class=\"displacy-label\" startOffset=\"50%\" side=\"left\" fill=\"currentColor\" text-anchor=\"middle\">obj</textPath>\n",
              "    </text>\n",
              "    <path class=\"displacy-arrowhead\" d=\"M761.0,164.0 L765.0,156.0 757.0,156.0\" fill=\"currentColor\"/>\n",
              "</g>\n",
              "\n",
              "<g class=\"displacy-arrow\">\n",
              "    <path class=\"displacy-arc\" id=\"arrow-3d4dd7567fd6498fba3e8c0055bd802f-0-9\" stroke-width=\"2px\" d=\"M862,162.0 862,148.66666666666666 921.0,148.66666666666666 921.0,162.0\" fill=\"none\" stroke=\"currentColor\"/>\n",
              "    <text dy=\"1.25em\" style=\"font-size: 0.8em; letter-spacing: 1px\">\n",
              "        <textPath xlink:href=\"#arrow-3d4dd7567fd6498fba3e8c0055bd802f-0-9\" class=\"displacy-label\" startOffset=\"50%\" side=\"left\" fill=\"currentColor\" text-anchor=\"middle\">case</textPath>\n",
              "    </text>\n",
              "    <path class=\"displacy-arrowhead\" d=\"M862,164.0 L858,156.0 866,156.0\" fill=\"currentColor\"/>\n",
              "</g>\n",
              "\n",
              "<g class=\"displacy-arrow\">\n",
              "    <path class=\"displacy-arc\" id=\"arrow-3d4dd7567fd6498fba3e8c0055bd802f-0-10\" stroke-width=\"2px\" d=\"M782,162.0 782,135.33333333333334 924.0,135.33333333333334 924.0,162.0\" fill=\"none\" stroke=\"currentColor\"/>\n",
              "    <text dy=\"1.25em\" style=\"font-size: 0.8em; letter-spacing: 1px\">\n",
              "        <textPath xlink:href=\"#arrow-3d4dd7567fd6498fba3e8c0055bd802f-0-10\" class=\"displacy-label\" startOffset=\"50%\" side=\"left\" fill=\"currentColor\" text-anchor=\"middle\">nmod</textPath>\n",
              "    </text>\n",
              "    <path class=\"displacy-arrowhead\" d=\"M924.0,164.0 L928.0,156.0 920.0,156.0\" fill=\"currentColor\"/>\n",
              "</g>\n",
              "\n",
              "<g class=\"displacy-arrow\">\n",
              "    <path class=\"displacy-arc\" id=\"arrow-3d4dd7567fd6498fba3e8c0055bd802f-0-11\" stroke-width=\"2px\" d=\"M1022,162.0 1022,148.66666666666666 1081.0,148.66666666666666 1081.0,162.0\" fill=\"none\" stroke=\"currentColor\"/>\n",
              "    <text dy=\"1.25em\" style=\"font-size: 0.8em; letter-spacing: 1px\">\n",
              "        <textPath xlink:href=\"#arrow-3d4dd7567fd6498fba3e8c0055bd802f-0-11\" class=\"displacy-label\" startOffset=\"50%\" side=\"left\" fill=\"currentColor\" text-anchor=\"middle\">case</textPath>\n",
              "    </text>\n",
              "    <path class=\"displacy-arrowhead\" d=\"M1022,164.0 L1018,156.0 1026,156.0\" fill=\"currentColor\"/>\n",
              "</g>\n",
              "\n",
              "<g class=\"displacy-arrow\">\n",
              "    <path class=\"displacy-arc\" id=\"arrow-3d4dd7567fd6498fba3e8c0055bd802f-0-12\" stroke-width=\"2px\" d=\"M782,162.0 782,122.0 1087.0,122.0 1087.0,162.0\" fill=\"none\" stroke=\"currentColor\"/>\n",
              "    <text dy=\"1.25em\" style=\"font-size: 0.8em; letter-spacing: 1px\">\n",
              "        <textPath xlink:href=\"#arrow-3d4dd7567fd6498fba3e8c0055bd802f-0-12\" class=\"displacy-label\" startOffset=\"50%\" side=\"left\" fill=\"currentColor\" text-anchor=\"middle\">nmod</textPath>\n",
              "    </text>\n",
              "    <path class=\"displacy-arrowhead\" d=\"M1087.0,164.0 L1091.0,156.0 1083.0,156.0\" fill=\"currentColor\"/>\n",
              "</g>\n",
              "\n",
              "<g class=\"displacy-arrow\">\n",
              "    <path class=\"displacy-arc\" id=\"arrow-3d4dd7567fd6498fba3e8c0055bd802f-0-13\" stroke-width=\"2px\" d=\"M1182,162.0 1182,135.33333333333334 1324.0,135.33333333333334 1324.0,162.0\" fill=\"none\" stroke=\"currentColor\"/>\n",
              "    <text dy=\"1.25em\" style=\"font-size: 0.8em; letter-spacing: 1px\">\n",
              "        <textPath xlink:href=\"#arrow-3d4dd7567fd6498fba3e8c0055bd802f-0-13\" class=\"displacy-label\" startOffset=\"50%\" side=\"left\" fill=\"currentColor\" text-anchor=\"middle\">advmod</textPath>\n",
              "    </text>\n",
              "    <path class=\"displacy-arrowhead\" d=\"M1182,164.0 L1178,156.0 1186,156.0\" fill=\"currentColor\"/>\n",
              "</g>\n",
              "\n",
              "<g class=\"displacy-arrow\">\n",
              "    <path class=\"displacy-arc\" id=\"arrow-3d4dd7567fd6498fba3e8c0055bd802f-0-14\" stroke-width=\"2px\" d=\"M1262,162.0 1262,148.66666666666666 1321.0,148.66666666666666 1321.0,162.0\" fill=\"none\" stroke=\"currentColor\"/>\n",
              "    <text dy=\"1.25em\" style=\"font-size: 0.8em; letter-spacing: 1px\">\n",
              "        <textPath xlink:href=\"#arrow-3d4dd7567fd6498fba3e8c0055bd802f-0-14\" class=\"displacy-label\" startOffset=\"50%\" side=\"left\" fill=\"currentColor\" text-anchor=\"middle\">advmod</textPath>\n",
              "    </text>\n",
              "    <path class=\"displacy-arrowhead\" d=\"M1262,164.0 L1258,156.0 1266,156.0\" fill=\"currentColor\"/>\n",
              "</g>\n",
              "\n",
              "<g class=\"displacy-arrow\">\n",
              "    <path class=\"displacy-arc\" id=\"arrow-3d4dd7567fd6498fba3e8c0055bd802f-0-15\" stroke-width=\"2px\" d=\"M1422,162.0 1422,135.33333333333334 1564.0,135.33333333333334 1564.0,162.0\" fill=\"none\" stroke=\"currentColor\"/>\n",
              "    <text dy=\"1.25em\" style=\"font-size: 0.8em; letter-spacing: 1px\">\n",
              "        <textPath xlink:href=\"#arrow-3d4dd7567fd6498fba3e8c0055bd802f-0-15\" class=\"displacy-label\" startOffset=\"50%\" side=\"left\" fill=\"currentColor\" text-anchor=\"middle\">det</textPath>\n",
              "    </text>\n",
              "    <path class=\"displacy-arrowhead\" d=\"M1422,164.0 L1418,156.0 1426,156.0\" fill=\"currentColor\"/>\n",
              "</g>\n",
              "\n",
              "<g class=\"displacy-arrow\">\n",
              "    <path class=\"displacy-arc\" id=\"arrow-3d4dd7567fd6498fba3e8c0055bd802f-0-16\" stroke-width=\"2px\" d=\"M1502,162.0 1502,148.66666666666666 1561.0,148.66666666666666 1561.0,162.0\" fill=\"none\" stroke=\"currentColor\"/>\n",
              "    <text dy=\"1.25em\" style=\"font-size: 0.8em; letter-spacing: 1px\">\n",
              "        <textPath xlink:href=\"#arrow-3d4dd7567fd6498fba3e8c0055bd802f-0-16\" class=\"displacy-label\" startOffset=\"50%\" side=\"left\" fill=\"currentColor\" text-anchor=\"middle\">det</textPath>\n",
              "    </text>\n",
              "    <path class=\"displacy-arrowhead\" d=\"M1502,164.0 L1498,156.0 1506,156.0\" fill=\"currentColor\"/>\n",
              "</g>\n",
              "\n",
              "<g class=\"displacy-arrow\">\n",
              "    <path class=\"displacy-arc\" id=\"arrow-3d4dd7567fd6498fba3e8c0055bd802f-0-17\" stroke-width=\"2px\" d=\"M1342,162.0 1342,122.0 1567.0,122.0 1567.0,162.0\" fill=\"none\" stroke=\"currentColor\"/>\n",
              "    <text dy=\"1.25em\" style=\"font-size: 0.8em; letter-spacing: 1px\">\n",
              "        <textPath xlink:href=\"#arrow-3d4dd7567fd6498fba3e8c0055bd802f-0-17\" class=\"displacy-label\" startOffset=\"50%\" side=\"left\" fill=\"currentColor\" text-anchor=\"middle\">obj</textPath>\n",
              "    </text>\n",
              "    <path class=\"displacy-arrowhead\" d=\"M1567.0,164.0 L1571.0,156.0 1563.0,156.0\" fill=\"currentColor\"/>\n",
              "</g>\n",
              "\n",
              "<g class=\"displacy-arrow\">\n",
              "    <path class=\"displacy-arc\" id=\"arrow-3d4dd7567fd6498fba3e8c0055bd802f-0-18\" stroke-width=\"2px\" d=\"M1662,162.0 1662,148.66666666666666 1721.0,148.66666666666666 1721.0,162.0\" fill=\"none\" stroke=\"currentColor\"/>\n",
              "    <text dy=\"1.25em\" style=\"font-size: 0.8em; letter-spacing: 1px\">\n",
              "        <textPath xlink:href=\"#arrow-3d4dd7567fd6498fba3e8c0055bd802f-0-18\" class=\"displacy-label\" startOffset=\"50%\" side=\"left\" fill=\"currentColor\" text-anchor=\"middle\">case</textPath>\n",
              "    </text>\n",
              "    <path class=\"displacy-arrowhead\" d=\"M1662,164.0 L1658,156.0 1666,156.0\" fill=\"currentColor\"/>\n",
              "</g>\n",
              "\n",
              "<g class=\"displacy-arrow\">\n",
              "    <path class=\"displacy-arc\" id=\"arrow-3d4dd7567fd6498fba3e8c0055bd802f-0-19\" stroke-width=\"2px\" d=\"M1582,162.0 1582,135.33333333333334 1724.0,135.33333333333334 1724.0,162.0\" fill=\"none\" stroke=\"currentColor\"/>\n",
              "    <text dy=\"1.25em\" style=\"font-size: 0.8em; letter-spacing: 1px\">\n",
              "        <textPath xlink:href=\"#arrow-3d4dd7567fd6498fba3e8c0055bd802f-0-19\" class=\"displacy-label\" startOffset=\"50%\" side=\"left\" fill=\"currentColor\" text-anchor=\"middle\">nmod</textPath>\n",
              "    </text>\n",
              "    <path class=\"displacy-arrowhead\" d=\"M1724.0,164.0 L1728.0,156.0 1720.0,156.0\" fill=\"currentColor\"/>\n",
              "</g>\n",
              "\n",
              "<g class=\"displacy-arrow\">\n",
              "    <path class=\"displacy-arc\" id=\"arrow-3d4dd7567fd6498fba3e8c0055bd802f-0-20\" stroke-width=\"2px\" d=\"M1822,162.0 1822,148.66666666666666 1881.0,148.66666666666666 1881.0,162.0\" fill=\"none\" stroke=\"currentColor\"/>\n",
              "    <text dy=\"1.25em\" style=\"font-size: 0.8em; letter-spacing: 1px\">\n",
              "        <textPath xlink:href=\"#arrow-3d4dd7567fd6498fba3e8c0055bd802f-0-20\" class=\"displacy-label\" startOffset=\"50%\" side=\"left\" fill=\"currentColor\" text-anchor=\"middle\">case</textPath>\n",
              "    </text>\n",
              "    <path class=\"displacy-arrowhead\" d=\"M1822,164.0 L1818,156.0 1826,156.0\" fill=\"currentColor\"/>\n",
              "</g>\n",
              "\n",
              "<g class=\"displacy-arrow\">\n",
              "    <path class=\"displacy-arc\" id=\"arrow-3d4dd7567fd6498fba3e8c0055bd802f-0-21\" stroke-width=\"2px\" d=\"M1742,162.0 1742,135.33333333333334 1884.0,135.33333333333334 1884.0,162.0\" fill=\"none\" stroke=\"currentColor\"/>\n",
              "    <text dy=\"1.25em\" style=\"font-size: 0.8em; letter-spacing: 1px\">\n",
              "        <textPath xlink:href=\"#arrow-3d4dd7567fd6498fba3e8c0055bd802f-0-21\" class=\"displacy-label\" startOffset=\"50%\" side=\"left\" fill=\"currentColor\" text-anchor=\"middle\">nmod</textPath>\n",
              "    </text>\n",
              "    <path class=\"displacy-arrowhead\" d=\"M1884.0,164.0 L1888.0,156.0 1880.0,156.0\" fill=\"currentColor\"/>\n",
              "</g>\n",
              "</svg></span>"
            ]
          },
          "metadata": {}
        }
      ]
    },
    {
      "cell_type": "code",
      "source": [
        "# pipeline spacy\n",
        "print(\"Pipeline Normal: \", nlp.pipe_names)\n",
        "\n",
        "# Remover elemento pipeline pelo nome\n",
        "if \"tok2vec\" in nlp.pipe_names:\n",
        "  nlp.remove_pipe(\"tok2vec\")\n",
        "  print(\"Pipeline sem tok2vec: \", nlp.pipe_names)\n",
        "else:\n",
        "  print(\"Não existe tok2vec para remover\")\n",
        "\n",
        "# Colocar de volta o pipeline\n",
        "nlp.add_pipe(\"tok2vec\", before=\"morphologizer\")\n",
        "print(\"Pipeline com tok2vek: \", nlp.pipe_names)"
      ],
      "metadata": {
        "id": "yXdx3uV7KlGT",
        "outputId": "fc9ece2e-7a1d-4595-b150-702ba1ab48c0",
        "colab": {
          "base_uri": "https://localhost:8080/"
        }
      },
      "execution_count": 58,
      "outputs": [
        {
          "output_type": "stream",
          "name": "stdout",
          "text": [
            "Pipeline Normal:  ['tok2vec', 'morphologizer', 'parser', 'lemmatizer', 'attribute_ruler', 'ner']\n",
            "Pipeline sem tok2vec:  ['morphologizer', 'parser', 'lemmatizer', 'attribute_ruler', 'ner']\n",
            "Pipeline com tok2vek:  ['tok2vec', 'morphologizer', 'parser', 'lemmatizer', 'attribute_ruler', 'ner']\n"
          ]
        }
      ]
    },
    {
      "cell_type": "code",
      "source": [],
      "metadata": {
        "id": "bzCELxX3OYLf"
      },
      "execution_count": null,
      "outputs": []
    }
  ]
}