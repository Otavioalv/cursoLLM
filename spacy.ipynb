{
  "nbformat": 4,
  "nbformat_minor": 0,
  "metadata": {
    "colab": {
      "provenance": [],
      "authorship_tag": "ABX9TyPhtJrlgtA3jdyfmdX0tNb7"
    },
    "kernelspec": {
      "name": "python3",
      "display_name": "Python 3"
    },
    "language_info": {
      "name": "python"
    }
  },
  "cells": [
    {
      "cell_type": "code",
      "execution_count": null,
      "metadata": {
        "id": "SsdEgRCuE-Df"
      },
      "outputs": [],
      "source": [
        "# Instala o spacy nesta versão especifica\n",
        "!pip install -U spacy==3.7.2"
      ]
    },
    {
      "cell_type": "code",
      "source": [
        "# Baixa o modelo de texto grande (lg)\n",
        "!python -m spacy download 'pt_core_news_lg'"
      ],
      "metadata": {
        "id": "2EKv4AvWHxfk"
      },
      "execution_count": null,
      "outputs": []
    },
    {
      "cell_type": "code",
      "source": [
        "import spacy    # Importar spacy"
      ],
      "metadata": {
        "id": "xdlXqk9_IxX3"
      },
      "execution_count": 16,
      "outputs": []
    },
    {
      "cell_type": "code",
      "source": [
        "nlp = spacy.load('pt_core_news_lg')  # Carregar o modelo em português (nlp: processamento de linguagem natural)"
      ],
      "metadata": {
        "id": "xdYMNpA4J46n"
      },
      "execution_count": 17,
      "outputs": []
    },
    {
      "cell_type": "code",
      "source": [
        "print(type(nlp))    # Printa o tipo da variavel"
      ],
      "metadata": {
        "colab": {
          "base_uri": "https://localhost:8080/"
        },
        "id": "snnjB1zfKUb3",
        "outputId": "a9e80321-bb4d-429e-e618-930ea6ef2b79"
      },
      "execution_count": 21,
      "outputs": [
        {
          "output_type": "stream",
          "name": "stdout",
          "text": [
            "<class 'spacy.lang.pt.Portuguese'>\n"
          ]
        }
      ]
    },
    {
      "cell_type": "code",
      "source": [
        "print(nlp.pipe_names)       # Mostra objetos do pipeline"
      ],
      "metadata": {
        "colab": {
          "base_uri": "https://localhost:8080/"
        },
        "id": "jgLYNnRBKZo3",
        "outputId": "de16dfe1-303c-40ff-a64c-d568ab180fc6"
      },
      "execution_count": 20,
      "outputs": [
        {
          "output_type": "stream",
          "name": "stdout",
          "text": [
            "['tok2vec', 'morphologizer', 'parser', 'lemmatizer', 'attribute_ruler', 'ner']\n"
          ]
        }
      ]
    },
    {
      "cell_type": "code",
      "source": [
        "# Cria um documento\n",
        "document = nlp(\"As ações do Magazine Luiza S.A, Franca, Brasil, acumularam baixa de 70% ao ano. Assim já devolveram todos os ganhos do periodo da pandemia\")\n",
        "\n",
        "# Documento provisorio\n",
        "document2 = nlp(\"Alegações extraordinarias querem evidências extraordinarias. Carl Sagan: 'https://carlsagan.com'\")"
      ],
      "metadata": {
        "id": "9KOhY5bTKs9H"
      },
      "execution_count": 27,
      "outputs": []
    },
    {
      "cell_type": "code",
      "source": [
        "# Ler o tamanho do documento\n",
        "len(document.vocab)"
      ],
      "metadata": {
        "colab": {
          "base_uri": "https://localhost:8080/"
        },
        "id": "A0FDYhB_LOqG",
        "outputId": "4ad613fe-3f5f-4739-8813-aba49be4ae05"
      },
      "execution_count": 23,
      "outputs": [
        {
          "output_type": "execute_result",
          "data": {
            "text/plain": [
              "375"
            ]
          },
          "metadata": {},
          "execution_count": 23
        }
      ]
    },
    {
      "cell_type": "code",
      "source": [
        "# Ver o tipo do documento\n",
        "print(type(document))"
      ],
      "metadata": {
        "colab": {
          "base_uri": "https://localhost:8080/"
        },
        "id": "yX2UpHqKLVc3",
        "outputId": "46c28028-b088-4835-8701-94e5790902e0"
      },
      "execution_count": 24,
      "outputs": [
        {
          "output_type": "stream",
          "name": "stdout",
          "text": [
            "<class 'spacy.tokens.doc.Doc'>\n"
          ]
        }
      ]
    },
    {
      "cell_type": "code",
      "source": [
        "# Mostra a tokenização do texto\n",
        "for token in document:\n",
        "    print(token.text)"
      ],
      "metadata": {
        "colab": {
          "base_uri": "https://localhost:8080/"
        },
        "id": "2C5vh4msLZw2",
        "outputId": "33a2d4e7-9f06-40da-9d91-0ae44df02c0c"
      },
      "execution_count": 26,
      "outputs": [
        {
          "output_type": "stream",
          "name": "stdout",
          "text": [
            "As\n",
            "ações\n",
            "do\n",
            "Magazine\n",
            "Luiza\n",
            "S.A\n",
            ",\n",
            "Franca\n",
            ",\n",
            "Brasil\n",
            ",\n",
            "acumularam\n",
            "baixa\n",
            "de\n",
            "70\n",
            "%\n",
            "ao\n",
            "ano\n",
            ".\n",
            "Assim\n",
            "já\n",
            "devolveram\n",
            "todos\n",
            "os\n",
            "ganhos\n",
            "do\n",
            "periodo\n",
            "da\n",
            "pandemia\n"
          ]
        }
      ]
    },
    {
      "cell_type": "code",
      "source": [
        "# Mostra tokenização document2\n",
        "for token in document2:\n",
        "  print(token.text)"
      ],
      "metadata": {
        "id": "yP6jZ5zvMZoX",
        "outputId": "22c06f2d-b5b5-4dd6-9b0d-09122bd8f078",
        "colab": {
          "base_uri": "https://localhost:8080/"
        }
      },
      "execution_count": 29,
      "outputs": [
        {
          "output_type": "stream",
          "name": "stdout",
          "text": [
            "Alegações\n",
            "extraordinarias\n",
            "querem\n",
            "evidências\n",
            "extraordinarias\n",
            ".\n",
            "Carl\n",
            "Sagan\n",
            ":\n",
            "'\n",
            "https://carlsagan.com\n",
            "'\n"
          ]
        }
      ]
    },
    {
      "cell_type": "code",
      "source": [
        "print(document[3])"
      ],
      "metadata": {
        "id": "IPIs-uaGNFRF",
        "outputId": "69485dda-2ce7-4b5c-aa98-adea41e8300f",
        "colab": {
          "base_uri": "https://localhost:8080/"
        }
      },
      "execution_count": 30,
      "outputs": [
        {
          "output_type": "stream",
          "name": "stdout",
          "text": [
            "Magazine\n"
          ]
        }
      ]
    },
    {
      "cell_type": "code",
      "source": [
        "print(document[3:5])"
      ],
      "metadata": {
        "id": "clV4D-hTNb8X",
        "outputId": "073e3e3f-feaa-45d9-e6e7-38079805b6ea",
        "colab": {
          "base_uri": "https://localhost:8080/"
        }
      },
      "execution_count": 32,
      "outputs": [
        {
          "output_type": "stream",
          "name": "stdout",
          "text": [
            "Magazine Luiza\n"
          ]
        }
      ]
    },
    {
      "cell_type": "code",
      "source": [
        "print(len(document))"
      ],
      "metadata": {
        "id": "Vybwo_qKNpRW",
        "outputId": "e367ae3e-a4a4-416f-ea70-32fc79d1358a",
        "colab": {
          "base_uri": "https://localhost:8080/"
        }
      },
      "execution_count": 33,
      "outputs": [
        {
          "output_type": "stream",
          "name": "stdout",
          "text": [
            "29\n"
          ]
        }
      ]
    },
    {
      "cell_type": "code",
      "source": [
        "# Imprime os token\n",
        "print(\"Tokens: \", [token.text for token in document])\n",
        "print(\"Stop word: \", [token.is_stop for token in document])\n",
        "print(\"Alfanumerico: \", [token.is_alpha for token in document])\n",
        "print(\"Maiusculo: \", [token.is_upper for token in document])\n",
        "print(\"Pontuação: \", [token.is_punct for token in document])\n",
        "print(\"Numero: \", [token.like_num for token in document])\n",
        "print(\"Sentença Inicial: \", [token.is_sent_start for token in document])\n",
        "\n"
      ],
      "metadata": {
        "id": "7X0Dy5IhNyMl",
        "outputId": "579dd3cd-769c-499b-d192-8858d372e3d9",
        "colab": {
          "base_uri": "https://localhost:8080/"
        }
      },
      "execution_count": 37,
      "outputs": [
        {
          "output_type": "stream",
          "name": "stdout",
          "text": [
            "Tokens:  ['As', 'ações', 'do', 'Magazine', 'Luiza', 'S.A', ',', 'Franca', ',', 'Brasil', ',', 'acumularam', 'baixa', 'de', '70', '%', 'ao', 'ano', '.', 'Assim', 'já', 'devolveram', 'todos', 'os', 'ganhos', 'do', 'periodo', 'da', 'pandemia']\n",
            "Stop word:  [True, False, True, False, False, False, False, False, False, False, False, False, False, True, False, False, True, False, False, True, True, False, True, True, False, True, False, True, False]\n",
            "Alfanumerico:  [True, True, True, True, True, False, False, True, False, True, False, True, True, True, False, False, True, True, False, True, True, True, True, True, True, True, True, True, True]\n",
            "Maiusculo:  [False, False, False, False, False, True, False, False, False, False, False, False, False, False, False, False, False, False, False, False, False, False, False, False, False, False, False, False, False]\n",
            "Pontuação:  [False, False, False, False, False, False, True, False, True, False, True, False, False, False, False, True, False, False, True, False, False, False, False, False, False, False, False, False, False]\n",
            "Numero:  [False, False, False, False, False, False, False, False, False, False, False, False, False, False, True, False, False, False, False, False, False, False, False, False, False, False, False, False, False]\n",
            "Sentença Inicial:  [True, False, False, False, False, False, False, False, False, False, False, False, False, False, False, False, False, False, False, True, False, False, False, False, False, False, False, False, False]\n"
          ]
        }
      ]
    },
    {
      "cell_type": "code",
      "source": [
        "print(\"Tokens: \", [token.text for token in document])\n",
        "print(\"Formato: \", [token.shape_ for token in document])"
      ],
      "metadata": {
        "id": "Dc70y-0UOxUF",
        "outputId": "8c2ceef3-a047-428a-8531-9fad33c833ba",
        "colab": {
          "base_uri": "https://localhost:8080/"
        }
      },
      "execution_count": 38,
      "outputs": [
        {
          "output_type": "stream",
          "name": "stdout",
          "text": [
            "Tokens:  ['As', 'ações', 'do', 'Magazine', 'Luiza', 'S.A', ',', 'Franca', ',', 'Brasil', ',', 'acumularam', 'baixa', 'de', '70', '%', 'ao', 'ano', '.', 'Assim', 'já', 'devolveram', 'todos', 'os', 'ganhos', 'do', 'periodo', 'da', 'pandemia']\n",
            "Formato:  ['Xx', 'xxxx', 'xx', 'Xxxxx', 'Xxxxx', 'X.X', ',', 'Xxxxx', ',', 'Xxxxx', ',', 'xxxx', 'xxxx', 'xx', 'dd', '%', 'xx', 'xxx', '.', 'Xxxxx', 'xx', 'xxxx', 'xxxx', 'xx', 'xxxx', 'xx', 'xxxx', 'xx', 'xxxx']\n"
          ]
        }
      ]
    },
    {
      "cell_type": "code",
      "source": [
        "# Procurar determinados elementos do document\n",
        "\n",
        "# Procura por numero\n",
        "for token in document:\n",
        "  if token.like_num:\n",
        "    print(\"Numero:\", token.text)\n",
        "  if token.is_punct:\n",
        "    print(\"Pontuação:\", token.text)"
      ],
      "metadata": {
        "id": "znH_Fd64PagW",
        "outputId": "15939516-437f-468c-93fd-9467ae867f4b",
        "colab": {
          "base_uri": "https://localhost:8080/"
        }
      },
      "execution_count": 40,
      "outputs": [
        {
          "output_type": "stream",
          "name": "stdout",
          "text": [
            "Pontuação: ,\n",
            "Pontuação: ,\n",
            "Pontuação: ,\n",
            "Numero: 70\n",
            "Pontuação: %\n",
            "Pontuação: .\n"
          ]
        }
      ]
    },
    {
      "cell_type": "code",
      "source": [
        "for token in document:\n",
        "  print(token.text, \" - \", token.pos_, \" - \", token.dep_, \" - \", token.lemma_, \" - \", token.shape_)"
      ],
      "metadata": {
        "id": "gidcrEtVP1jm",
        "outputId": "1457dc06-0692-484d-d219-12bee1ee8d42",
        "colab": {
          "base_uri": "https://localhost:8080/"
        }
      },
      "execution_count": 41,
      "outputs": [
        {
          "output_type": "stream",
          "name": "stdout",
          "text": [
            "As  -  DET  -  det  -  o  -  Xx\n",
            "ações  -  NOUN  -  nsubj  -  ação  -  xxxx\n",
            "do  -  ADP  -  case  -  de o  -  xx\n",
            "Magazine  -  PROPN  -  nmod  -  Magazine  -  Xxxxx\n",
            "Luiza  -  PROPN  -  flat:name  -  Luiza  -  Xxxxx\n",
            "S.A  -  PROPN  -  flat:name  -  S.A  -  X.X\n",
            ",  -  PUNCT  -  punct  -  ,  -  ,\n",
            "Franca  -  PROPN  -  conj  -  Franca  -  Xxxxx\n",
            ",  -  PUNCT  -  punct  -  ,  -  ,\n",
            "Brasil  -  PROPN  -  conj  -  Brasil  -  Xxxxx\n",
            ",  -  PUNCT  -  punct  -  ,  -  ,\n",
            "acumularam  -  VERB  -  ROOT  -  acumular  -  xxxx\n",
            "baixa  -  NOUN  -  obj  -  baixa  -  xxxx\n",
            "de  -  ADP  -  case  -  de  -  xx\n",
            "70  -  NUM  -  nummod  -  70  -  dd\n",
            "%  -  SYM  -  nmod  -  %  -  %\n",
            "ao  -  ADP  -  case  -  a o  -  xx\n",
            "ano  -  NOUN  -  nmod  -  ano  -  xxx\n",
            ".  -  PUNCT  -  punct  -  .  -  .\n",
            "Assim  -  ADV  -  advmod  -  assim  -  Xxxxx\n",
            "já  -  ADV  -  advmod  -  já  -  xx\n",
            "devolveram  -  VERB  -  ROOT  -  devolver  -  xxxx\n",
            "todos  -  DET  -  det  -  todo  -  xxxx\n",
            "os  -  DET  -  det  -  o  -  xx\n",
            "ganhos  -  NOUN  -  obj  -  ganho  -  xxxx\n",
            "do  -  ADP  -  case  -  de o  -  xx\n",
            "periodo  -  NOUN  -  nmod  -  periodo  -  xxxx\n",
            "da  -  ADP  -  case  -  de o  -  xx\n",
            "pandemia  -  NOUN  -  nmod  -  pandemia  -  xxxx\n"
          ]
        }
      ]
    },
    {
      "cell_type": "code",
      "source": [
        " # Morfologia das palavras (Classe gramatical que a palavra pertence)\n",
        "for token in document:\n",
        "  print(token.text, \" - \", token.morph)"
      ],
      "metadata": {
        "id": "9n5jxQrZQ9s1",
        "outputId": "28a51c38-272c-4e38-9baf-88f60af6c42e",
        "colab": {
          "base_uri": "https://localhost:8080/"
        }
      },
      "execution_count": 43,
      "outputs": [
        {
          "output_type": "stream",
          "name": "stdout",
          "text": [
            "As  -  Definite=Def|Gender=Fem|Number=Plur|PronType=Art\n",
            "ações  -  Gender=Fem|Number=Plur\n",
            "do  -  Definite=Def|Gender=Masc|Number=Sing|PronType=Art\n",
            "Magazine  -  Gender=Fem|Number=Sing\n",
            "Luiza  -  Gender=Fem|Number=Sing\n",
            "S.A  -  Number=Sing\n",
            ",  -  \n",
            "Franca  -  Gender=Fem|Number=Sing\n",
            ",  -  \n",
            "Brasil  -  Gender=Masc|Number=Sing\n",
            ",  -  \n",
            "acumularam  -  Mood=Ind|Number=Plur|Person=3|Tense=Past|VerbForm=Fin\n",
            "baixa  -  Gender=Fem|Number=Sing\n",
            "de  -  \n",
            "70  -  NumType=Card\n",
            "%  -  \n",
            "ao  -  Definite=Def|Gender=Masc|Number=Sing|PronType=Art\n",
            "ano  -  Gender=Masc|Number=Sing\n",
            ".  -  \n",
            "Assim  -  \n",
            "já  -  \n",
            "devolveram  -  Mood=Ind|Number=Plur|Person=3|Tense=Past|VerbForm=Fin\n",
            "todos  -  Gender=Masc|Number=Plur|PronType=Tot\n",
            "os  -  Definite=Def|Gender=Masc|Number=Plur|PronType=Art\n",
            "ganhos  -  Gender=Masc|Number=Plur\n",
            "do  -  Definite=Def|Gender=Masc|Number=Sing|PronType=Art\n",
            "periodo  -  Gender=Masc|Number=Sing\n",
            "da  -  Definite=Def|Gender=Fem|Number=Sing|PronType=Art\n",
            "pandemia  -  Gender=Fem|Number=Sing\n"
          ]
        }
      ]
    },
    {
      "cell_type": "code",
      "source": [
        "for token in document:\n",
        "  print(token.text, \" - \", token.tag_)"
      ],
      "metadata": {
        "id": "9kJrAHE6SglD",
        "outputId": "925d1252-5abe-4637-ce91-0ee3befb1f23",
        "colab": {
          "base_uri": "https://localhost:8080/"
        }
      },
      "execution_count": 44,
      "outputs": [
        {
          "output_type": "stream",
          "name": "stdout",
          "text": [
            "As  -  DET\n",
            "ações  -  NOUN\n",
            "do  -  ADP\n",
            "Magazine  -  PROPN\n",
            "Luiza  -  PROPN\n",
            "S.A  -  PROPN\n",
            ",  -  PUNCT\n",
            "Franca  -  PROPN\n",
            ",  -  PUNCT\n",
            "Brasil  -  PROPN\n",
            ",  -  PUNCT\n",
            "acumularam  -  VERB\n",
            "baixa  -  NOUN\n",
            "de  -  ADP\n",
            "70  -  NUM\n",
            "%  -  SYM\n",
            "ao  -  ADP\n",
            "ano  -  NOUN\n",
            ".  -  PUNCT\n",
            "Assim  -  ADV\n",
            "já  -  ADV\n",
            "devolveram  -  VERB\n",
            "todos  -  DET\n",
            "os  -  DET\n",
            "ganhos  -  NOUN\n",
            "do  -  ADP\n",
            "periodo  -  NOUN\n",
            "da  -  ADP\n",
            "pandemia  -  NOUN\n"
          ]
        }
      ]
    },
    {
      "cell_type": "code",
      "source": [
        "for ent in document.ents:\n",
        "  print(ent.text, \" - \", ent.label_)\n"
      ],
      "metadata": {
        "id": "KmXZJCfyS7MJ",
        "outputId": "60e03f1d-f0cf-49e8-b9e2-c713e307f5e0",
        "colab": {
          "base_uri": "https://localhost:8080/"
        }
      },
      "execution_count": 45,
      "outputs": [
        {
          "output_type": "stream",
          "name": "stdout",
          "text": [
            "Magazine Luiza S.A  -  ORG\n",
            "Franca  -  ORG\n",
            "Brasil  -  LOC\n"
          ]
        }
      ]
    },
    {
      "cell_type": "code",
      "source": [
        "# stop words\n",
        "for token in document:\n",
        "  if token.is_stop:\n",
        "    print(\"Stop word: \", token.text)"
      ],
      "metadata": {
        "id": "5dqaInGxTx2z",
        "outputId": "26baaa73-4fe0-4261-d6e3-500b6a44d49d",
        "colab": {
          "base_uri": "https://localhost:8080/"
        }
      },
      "execution_count": 46,
      "outputs": [
        {
          "output_type": "stream",
          "name": "stdout",
          "text": [
            "Stop word:  As\n",
            "Stop word:  do\n",
            "Stop word:  de\n",
            "Stop word:  ao\n",
            "Stop word:  Assim\n",
            "Stop word:  já\n",
            "Stop word:  todos\n",
            "Stop word:  os\n",
            "Stop word:  do\n",
            "Stop word:  da\n"
          ]
        }
      ]
    },
    {
      "cell_type": "code",
      "source": [
        "# Mostra stop words padrão do spacy\n",
        "for words in nlp.Defaults.stop_words:\n",
        "  print(words)"
      ],
      "metadata": {
        "id": "fbilqX4xVD3C"
      },
      "execution_count": null,
      "outputs": []
    },
    {
      "cell_type": "code",
      "source": [
        "# Adicionar stop word personalizada\n",
        "nlp.Defaults.stop_words.add(\"magazine\") # Adiciona ao BD\n",
        "nlp.vocab[\"magazine\"].is_stop = True  # Adiciona a palavra como TRUE"
      ],
      "metadata": {
        "id": "gIw0_jgVVfwU"
      },
      "execution_count": 50,
      "outputs": []
    },
    {
      "cell_type": "code",
      "source": [
        "nlp.vocab[\"magazine\"].is_stop"
      ],
      "metadata": {
        "id": "AV6jwKwEV6_C",
        "outputId": "07cc4790-de5a-4ba4-f73a-8ccfd1d3fe78",
        "colab": {
          "base_uri": "https://localhost:8080/"
        }
      },
      "execution_count": 51,
      "outputs": [
        {
          "output_type": "execute_result",
          "data": {
            "text/plain": [
              "True"
            ]
          },
          "metadata": {},
          "execution_count": 51
        }
      ]
    },
    {
      "cell_type": "code",
      "source": [
        "# lista vazia\n",
        "token_list = []\n",
        "\n",
        "# Adiciona os tokens na lista\n",
        "for token in document:\n",
        "  token_list.append(token.text)\n",
        "\n",
        "# lista de stop words\n",
        "stop_list = []\n",
        "for words in nlp.Defaults.stop_words:\n",
        "  stop_list.append(words)\n",
        "\n",
        "# palavras que nao estao na lista de stop words\n",
        "nonstop = [word for word in token_list if not word in stop_list]\n",
        "\n",
        "print(document.text)\n",
        "print(nonstop)\n"
      ],
      "metadata": {
        "id": "-OVnoRh_WTrB",
        "outputId": "69f426c9-7953-4ef3-9eaf-61a37ce1cf97",
        "colab": {
          "base_uri": "https://localhost:8080/"
        }
      },
      "execution_count": 52,
      "outputs": [
        {
          "output_type": "stream",
          "name": "stdout",
          "text": [
            "As ações do Magazine Luiza S.A, Franca, Brasil, acumularam baixa de 70% ao ano. Assim já devolveram todos os ganhos do periodo da pandemia\n",
            "['As', 'ações', 'Magazine', 'Luiza', 'S.A', ',', 'Franca', ',', 'Brasil', ',', 'acumularam', 'baixa', '70', '%', 'ano', '.', 'Assim', 'devolveram', 'ganhos', 'periodo', 'pandemia']\n"
          ]
        }
      ]
    },
    {
      "cell_type": "code",
      "source": [
        "# hash\n",
        "print(\"Hash: \", nlp.vocab.strings[\"magazine\"])\n",
        "print(\"Hash: \", nlp.vocab.strings[\"dado\"])\n",
        "print(\"Hash: \", nlp.vocab.strings[\"dado\"])\n",
        "\n",
        "# string\n",
        "print(\"String: \", nlp.vocab.strings[nlp.vocab.strings[\"dado\"]])\n",
        "print(\"String: \", nlp.vocab.strings[7957890111422468342])"
      ],
      "metadata": {
        "id": "a1gHyOrGXgDD",
        "outputId": "14f9b76b-e831-4ae6-db3c-04ad9706bfcc",
        "colab": {
          "base_uri": "https://localhost:8080/"
        }
      },
      "execution_count": 58,
      "outputs": [
        {
          "output_type": "stream",
          "name": "stdout",
          "text": [
            "Hash:  7957890111422468342\n",
            "Hash:  11301671358236861278\n",
            "Hash:  11301671358236861278\n",
            "String:  dado\n",
            "String:  magazine\n"
          ]
        }
      ]
    },
    {
      "cell_type": "code",
      "source": [
        "# lexemas\n",
        "lex = nlp.vocab[\"dado\"]\n",
        "print(lex.text, \" - \", lex.orth, \" - \", lex.is_alpha, \" - \", lex.is_lower)"
      ],
      "metadata": {
        "id": "Co5h3C4fY8sN",
        "outputId": "9dcec8e4-687f-4773-985d-022ff0c8eacd",
        "colab": {
          "base_uri": "https://localhost:8080/"
        }
      },
      "execution_count": 60,
      "outputs": [
        {
          "output_type": "stream",
          "name": "stdout",
          "text": [
            "dado  -  11301671358236861278  -  True  -  True\n"
          ]
        }
      ]
    },
    {
      "cell_type": "code",
      "source": [
        "# Relação da palavras com outras palavras (mostra o peso delas)\n",
        "print(nlp(\"dados\").vector.shape)\n",
        "print(nlp(\"dados\").vector)\n",
        "\n",
        "print(nlp(\"dados são uma nova forma de ver o mundo\").vector)"
      ],
      "metadata": {
        "id": "u2siHifoZRBh"
      },
      "execution_count": null,
      "outputs": []
    },
    {
      "cell_type": "code",
      "source": [
        "# Busca de similaridade\n",
        "documento3 = nlp(\"Ele viaja regularmente de carro\")\n",
        "documento4 = nlp(\"Ela regularmente viaja de avião\")\n",
        "\n",
        "# Somente fazer comparação (sem tratamento)\n",
        "print(documento3.similarity(documento4))\n",
        "print(documento4.similarity(documento3))\n",
        "print(documento4.similarity(documento4))\n"
      ],
      "metadata": {
        "id": "7XCrtGgAZyyB",
        "outputId": "0963bd2f-f59b-48d5-cdca-3f502d883d99",
        "colab": {
          "base_uri": "https://localhost:8080/"
        }
      },
      "execution_count": 68,
      "outputs": [
        {
          "output_type": "stream",
          "name": "stdout",
          "text": [
            "0.8941741218519844\n",
            "0.8941741218519844\n",
            "1.0\n"
          ]
        }
      ]
    },
    {
      "cell_type": "code",
      "source": [
        "documento5 = nlp(\"Devemos dizer comprimento ou cumprimento?\")\n",
        "tokenA = documento5[2]\n",
        "tokenB = documento5[4]\n",
        "\n",
        "print(tokenA, tokenB)\n",
        "print(tokenA.similarity(tokenB))"
      ],
      "metadata": {
        "id": "OhAA-tMmcEgB",
        "outputId": "fb178db0-ce1d-415d-875b-eaf5d23a1486",
        "colab": {
          "base_uri": "https://localhost:8080/"
        }
      },
      "execution_count": 69,
      "outputs": [
        {
          "output_type": "stream",
          "name": "stdout",
          "text": [
            "comprimento cumprimento\n",
            "0.5804340243339539\n"
          ]
        }
      ]
    },
    {
      "cell_type": "code",
      "source": [
        "document6 = nlp(\"Ele pede descrição. Ele pede discrição\")\n",
        "\n",
        "partA = document6[0:3]\n",
        "partB = document6[4:len(document6.text)]\n",
        "\n",
        "print(partA, partB)\n",
        "\n",
        "print(partA.similarity(partB))"
      ],
      "metadata": {
        "id": "1bwgBLexdQpQ",
        "outputId": "e34f7e8e-2192-4d54-b0fd-3d57f33e33fc",
        "colab": {
          "base_uri": "https://localhost:8080/"
        }
      },
      "execution_count": 71,
      "outputs": [
        {
          "output_type": "stream",
          "name": "stdout",
          "text": [
            "Ele pede descrição Ele pede discrição\n",
            "0.9630053639411926\n"
          ]
        }
      ]
    },
    {
      "cell_type": "code",
      "source": [
        "# match (busca por padroes)\n",
        "\n",
        "from spacy.matcher import Matcher\n",
        "\n",
        "documento5 = nlp(\"Você pode ligar para (51) - 992324578 ou (11) - 93829012\")\n",
        "\n",
        "# Cria o matcher apartir do vocabulario\n",
        "matcher = Matcher(nlp.vocab)\n",
        "\n",
        "# Cria um padão\n",
        "padrao = [\n",
        "    {\"ORTH\": \"(\"},\n",
        "    {\"SHAPE\": \"dd\"},\n",
        "    {\"ORTH\": \")\"},\n",
        "    {\n",
        "        \"ORTH\": \"-\",\n",
        "        \"OP\": \"?\"\n",
        "    },\n",
        "    {\"IS_DIGIT\": True}\n",
        "]\n",
        "\n",
        "# Adiciona o meu novo padrao\n",
        "matcher.add(\"telefone\", [padrao])\n",
        "\n",
        "# Verifica os padroes apartir do documento criado\n",
        "matches = matcher(documento5)\n",
        "\n",
        "\n",
        "print(matches)\n",
        "for id, inicio, fim in matches:\n",
        "  print(id, \" - \", documento5[inicio:fim])\n"
      ],
      "metadata": {
        "id": "Et_XYl6vd0gP",
        "outputId": "5e2ce1f8-fa3e-430b-8095-a0a023339c3d",
        "colab": {
          "base_uri": "https://localhost:8080/"
        }
      },
      "execution_count": 78,
      "outputs": [
        {
          "output_type": "stream",
          "name": "stdout",
          "text": [
            "[(6562079219906668734, 4, 9), (6562079219906668734, 10, 15)]\n",
            "6562079219906668734  -  (51) - 992324578\n",
            "6562079219906668734  -  (11) - 93829012\n"
          ]
        }
      ]
    },
    {
      "cell_type": "code",
      "source": [
        "document6 = nlp(\"Estamos infectados com micro organismos. MICROORGANISMOS são perigosos. Não exergamos micro-organismos\")\n",
        "\n",
        "matcher = Matcher(nlp.vocab)\n",
        "\n",
        "\n",
        "# Criar 3 padroes para o matcher\n",
        "padrao1 = [\n",
        "    {\"LOWER\": \"micro-organismos\"}\n",
        "]\n",
        "\n",
        "padrao2 = [\n",
        "  {\"LOWER\": \"microorganismos\"}\n",
        "]\n",
        "\n",
        "padrao3 = [\n",
        "    {\"LOWER\": \"micro\"},\n",
        "    {\"LOWER\": \"organismos\"}\n",
        "]\n",
        "\n",
        "# Adicioina os padroes ao matcher\n",
        "matcher.add(\"padrao\", [padrao1, padrao2, padrao3])\n",
        "\n",
        "matches = matcher(document6)\n",
        "\n",
        "print(matches)\n",
        "for id, inicio, fim in matches:\n",
        "  print(id, \" - \", document6[inicio:fim])\n",
        "\n",
        "\n"
      ],
      "metadata": {
        "id": "AdOlK3MhhC0f",
        "outputId": "c3198320-bc0b-40a4-b58b-e433599ca663",
        "colab": {
          "base_uri": "https://localhost:8080/"
        }
      },
      "execution_count": 81,
      "outputs": [
        {
          "output_type": "stream",
          "name": "stdout",
          "text": [
            "[(9086520831825672219, 3, 5), (9086520831825672219, 6, 7), (9086520831825672219, 12, 13)]\n",
            "9086520831825672219  -  micro organismos\n",
            "9086520831825672219  -  MICROORGANISMOS\n",
            "9086520831825672219  -  micro-organismos\n"
          ]
        }
      ]
    },
    {
      "cell_type": "code",
      "source": [],
      "metadata": {
        "id": "BFDUeWbpj7yM"
      },
      "execution_count": null,
      "outputs": []
    }
  ]
}