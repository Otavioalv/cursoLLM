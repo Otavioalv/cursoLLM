{
  "nbformat": 4,
  "nbformat_minor": 0,
  "metadata": {
    "colab": {
      "provenance": [],
      "authorship_tag": "ABX9TyOVoyOIF0BS2A0LwP5aayeW"
    },
    "kernelspec": {
      "name": "python3",
      "display_name": "Python 3"
    },
    "language_info": {
      "name": "python"
    }
  },
  "cells": [
    {
      "cell_type": "code",
      "execution_count": null,
      "metadata": {
        "id": "CheN00nA3cym"
      },
      "outputs": [],
      "source": [
        "import nltk\n",
        "nltk.download('vader_lexicon')"
      ]
    },
    {
      "cell_type": "code",
      "source": [
        "from nltk.sentiment.vader import SentimentIntensityAnalyzer\n",
        "mas = SentimentIntensityAnalyzer()"
      ],
      "metadata": {
        "id": "DWQsAws36Ht6"
      },
      "execution_count": null,
      "outputs": []
    },
    {
      "cell_type": "code",
      "source": [
        "# começar analize de sentimento\n",
        "a = 'I hate this movie! But I Loved the girl'\n",
        "neutralStr = \"-_-\"\n",
        "mistStr = \"I hate this movie! But I loved the girl\"\n",
        "\n",
        "x = mas.polarity_scores(mistStr)\n",
        "print(a)\n",
        "print(x)"
      ],
      "metadata": {
        "id": "pSZCMcYO6Za5"
      },
      "execution_count": null,
      "outputs": []
    },
    {
      "cell_type": "code",
      "source": [
        "print(type(x))"
      ],
      "metadata": {
        "id": "6wspIfyj6pma"
      },
      "execution_count": null,
      "outputs": []
    },
    {
      "cell_type": "code",
      "source": [
        "print(x['compound'])\n",
        "print(x['neg'])\n",
        "print(x['neu'])\n",
        "print(x['pos'])"
      ],
      "metadata": {
        "id": "mwOkZi7Q6n4o"
      },
      "execution_count": null,
      "outputs": []
    },
    {
      "cell_type": "code",
      "source": [
        "from textblob import TextBlob\n",
        "\n",
        "teste = TextBlob(\"I love new york\")\n",
        "print(teste.sentiment)"
      ],
      "metadata": {
        "id": "ZsveOwxv_pEJ"
      },
      "execution_count": null,
      "outputs": []
    },
    {
      "cell_type": "code",
      "source": [
        "!pip install translate"
      ],
      "metadata": {
        "id": "zzEMuYbaAIiY"
      },
      "execution_count": null,
      "outputs": []
    },
    {
      "cell_type": "code",
      "source": [
        "from translate import Translator\n",
        "\n",
        "translator = Translator(from_lang=\"pt\", to_lang=\"en\")\n",
        "translation = translator.translate(\"odeio sertanejo\")\n",
        "\n",
        "print(translation )"
      ],
      "metadata": {
        "id": "dHt8g9qVA9ap"
      },
      "execution_count": null,
      "outputs": []
    },
    {
      "cell_type": "code",
      "source": [
        "x = mas.polarity_scores(translation)\n",
        "print(x)"
      ],
      "metadata": {
        "id": "Skg1z9hlBmkp"
      },
      "execution_count": null,
      "outputs": []
    },
    {
      "cell_type": "code",
      "source": [],
      "metadata": {
        "id": "eGEWcxc6Cbq4"
      },
      "execution_count": null,
      "outputs": []
    }
  ]
}